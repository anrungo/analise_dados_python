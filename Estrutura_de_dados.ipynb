{
 "cells": [
  {
   "cell_type": "markdown",
   "id": "6fea123e",
   "metadata": {},
   "source": [
    "# Curso Python Para Análise de dados - *Antonio Rungo*"
   ]
  },
  {
   "cell_type": "markdown",
   "id": "232dcf4f",
   "metadata": {},
   "source": [
    "## Estrutura de dados"
   ]
  },
  {
   "cell_type": "markdown",
   "id": "13dcbd90",
   "metadata": {},
   "source": [
    "### Listas"
   ]
  },
  {
   "cell_type": "code",
   "execution_count": 1,
   "id": "0d89443e",
   "metadata": {},
   "outputs": [
    {
     "data": {
      "text/plain": [
       "[1, 2, 3]"
      ]
     },
     "execution_count": 1,
     "metadata": {},
     "output_type": "execute_result"
    }
   ],
   "source": [
    "# Criando uma lista chamada animais\n",
    "animais = [1,2,3]\n",
    "animais"
   ]
  },
  {
   "cell_type": "code",
   "execution_count": 2,
   "id": "f5f4af84",
   "metadata": {},
   "outputs": [
    {
     "data": {
      "text/plain": [
       "['cachoro', 'gato', 12345, 6.5]"
      ]
     },
     "execution_count": 2,
     "metadata": {},
     "output_type": "execute_result"
    }
   ],
   "source": [
    "animais = [\"cachoro\", \"gato\", 12345, 6.5]\n",
    "animais"
   ]
  },
  {
   "cell_type": "code",
   "execution_count": 3,
   "id": "f5248092",
   "metadata": {},
   "outputs": [
    {
     "data": {
      "text/plain": [
       "'cachoro'"
      ]
     },
     "execution_count": 3,
     "metadata": {},
     "output_type": "execute_result"
    }
   ],
   "source": [
    "# Imprimindo o primeiro elemento da lista\n",
    "animais[0]"
   ]
  },
  {
   "cell_type": "code",
   "execution_count": 4,
   "id": "eff3d1b0",
   "metadata": {},
   "outputs": [
    {
     "data": {
      "text/plain": [
       "6.5"
      ]
     },
     "execution_count": 4,
     "metadata": {},
     "output_type": "execute_result"
    }
   ],
   "source": [
    "# Imprimindo o 4 elementoda lista\n",
    "animais[3]"
   ]
  },
  {
   "cell_type": "code",
   "execution_count": 5,
   "id": "6b63a2e5",
   "metadata": {},
   "outputs": [],
   "source": [
    "# Substituindo o primeiro elemento da lista\n",
    "animais[0]=\"papagaio\""
   ]
  },
  {
   "cell_type": "code",
   "execution_count": 6,
   "id": "eccab193",
   "metadata": {},
   "outputs": [
    {
     "data": {
      "text/plain": [
       "['papagaio', 'gato', 12345, 6.5]"
      ]
     },
     "execution_count": 6,
     "metadata": {},
     "output_type": "execute_result"
    }
   ],
   "source": [
    "animais"
   ]
  },
  {
   "cell_type": "code",
   "execution_count": 8,
   "id": "ee71dba7",
   "metadata": {},
   "outputs": [],
   "source": [
    "# Removendo gato da lista\n",
    "animais.remove(\"gato\")"
   ]
  },
  {
   "cell_type": "code",
   "execution_count": 9,
   "id": "5a3bbba3",
   "metadata": {},
   "outputs": [
    {
     "data": {
      "text/plain": [
       "['papagaio', 12345, 6.5]"
      ]
     },
     "execution_count": 9,
     "metadata": {},
     "output_type": "execute_result"
    }
   ],
   "source": [
    "animais"
   ]
  },
  {
   "cell_type": "code",
   "execution_count": 10,
   "id": "866200e9",
   "metadata": {},
   "outputs": [
    {
     "data": {
      "text/plain": [
       "3"
      ]
     },
     "execution_count": 10,
     "metadata": {},
     "output_type": "execute_result"
    }
   ],
   "source": [
    "len(animais)"
   ]
  },
  {
   "cell_type": "code",
   "execution_count": 11,
   "id": "2b8fb66e",
   "metadata": {},
   "outputs": [
    {
     "data": {
      "text/plain": [
       "False"
      ]
     },
     "execution_count": 11,
     "metadata": {},
     "output_type": "execute_result"
    }
   ],
   "source": [
    "\"gato\" in animais"
   ]
  },
  {
   "cell_type": "code",
   "execution_count": 12,
   "id": "7aaef6e9",
   "metadata": {},
   "outputs": [],
   "source": [
    "lista = [500, 30, 300, 80,10]"
   ]
  },
  {
   "cell_type": "code",
   "execution_count": 13,
   "id": "98a13f8b",
   "metadata": {},
   "outputs": [
    {
     "data": {
      "text/plain": [
       "[500, 30, 300, 80, 10]"
      ]
     },
     "execution_count": 13,
     "metadata": {},
     "output_type": "execute_result"
    }
   ],
   "source": [
    "lista"
   ]
  },
  {
   "cell_type": "code",
   "execution_count": 14,
   "id": "967644d9",
   "metadata": {},
   "outputs": [
    {
     "data": {
      "text/plain": [
       "500"
      ]
     },
     "execution_count": 14,
     "metadata": {},
     "output_type": "execute_result"
    }
   ],
   "source": [
    "max(lista)"
   ]
  },
  {
   "cell_type": "code",
   "execution_count": 15,
   "id": "03f84d7e",
   "metadata": {},
   "outputs": [
    {
     "data": {
      "text/plain": [
       "10"
      ]
     },
     "execution_count": 15,
     "metadata": {},
     "output_type": "execute_result"
    }
   ],
   "source": [
    "min(lista)"
   ]
  },
  {
   "cell_type": "code",
   "execution_count": 16,
   "id": "614d492e",
   "metadata": {},
   "outputs": [],
   "source": [
    "animais.append(\"leao\")"
   ]
  },
  {
   "cell_type": "code",
   "execution_count": 17,
   "id": "dae4cf69",
   "metadata": {},
   "outputs": [
    {
     "data": {
      "text/plain": [
       "['papagaio', 12345, 6.5, 'leao']"
      ]
     },
     "execution_count": 17,
     "metadata": {},
     "output_type": "execute_result"
    }
   ],
   "source": [
    "animais"
   ]
  },
  {
   "cell_type": "code",
   "execution_count": 23,
   "id": "aa5d468a",
   "metadata": {},
   "outputs": [],
   "source": [
    "animais.extend([\"cobra\", 6])"
   ]
  },
  {
   "cell_type": "code",
   "execution_count": 24,
   "id": "1b3948f6",
   "metadata": {},
   "outputs": [
    {
     "data": {
      "text/plain": [
       "['papagaio', 12345, 6.5, 'leao', 'cobra', 6, 'cobra', 6, 'cobra', 6]"
      ]
     },
     "execution_count": 24,
     "metadata": {},
     "output_type": "execute_result"
    }
   ],
   "source": [
    "animais"
   ]
  },
  {
   "cell_type": "code",
   "execution_count": 19,
   "id": "a99e8de8",
   "metadata": {},
   "outputs": [
    {
     "data": {
      "text/plain": [
       "0"
      ]
     },
     "execution_count": 19,
     "metadata": {},
     "output_type": "execute_result"
    }
   ],
   "source": [
    "animais.count(\"cachoro\")"
   ]
  },
  {
   "cell_type": "code",
   "execution_count": 20,
   "id": "d3fba587",
   "metadata": {},
   "outputs": [],
   "source": [
    "lista.sort()"
   ]
  },
  {
   "cell_type": "code",
   "execution_count": 21,
   "id": "f7f25ff1",
   "metadata": {},
   "outputs": [
    {
     "data": {
      "text/plain": [
       "[10, 30, 80, 300, 500]"
      ]
     },
     "execution_count": 21,
     "metadata": {},
     "output_type": "execute_result"
    }
   ],
   "source": [
    "lista"
   ]
  },
  {
   "cell_type": "markdown",
   "id": "b3b73a03",
   "metadata": {},
   "source": [
    "### Tuplas"
   ]
  },
  {
   "cell_type": "code",
   "execution_count": 25,
   "id": "cc4b98d0",
   "metadata": {},
   "outputs": [],
   "source": [
    "# As tuplas usam parenteses como sintaxe\n",
    "top = (\"Banana\",\"Maca\",10,50)"
   ]
  },
  {
   "cell_type": "code",
   "execution_count": 26,
   "id": "0861e76c",
   "metadata": {},
   "outputs": [],
   "source": [
    "# Retornando o primeiro elemento"
   ]
  },
  {
   "cell_type": "code",
   "execution_count": 27,
   "id": "65cb1294",
   "metadata": {},
   "outputs": [
    {
     "data": {
      "text/plain": [
       "'Banana'"
      ]
     },
     "execution_count": 27,
     "metadata": {},
     "output_type": "execute_result"
    }
   ],
   "source": [
    "top[0]"
   ]
  },
  {
   "cell_type": "code",
   "execution_count": 28,
   "id": "2407d6af",
   "metadata": {},
   "outputs": [],
   "source": [
    "# Diferente das listas as tuplas sao imutaveis, o que quer dizer que nao podemos alterar os seus elemento"
   ]
  },
  {
   "cell_type": "code",
   "execution_count": 29,
   "id": "8f933d20",
   "metadata": {},
   "outputs": [
    {
     "ename": "TypeError",
     "evalue": "'tuple' object does not support item assignment",
     "output_type": "error",
     "traceback": [
      "\u001b[1;31m---------------------------------------------------------------------------\u001b[0m",
      "\u001b[1;31mTypeError\u001b[0m                                 Traceback (most recent call last)",
      "\u001b[1;32m<ipython-input-29-cad2662a30c8>\u001b[0m in \u001b[0;36m<module>\u001b[1;34m\u001b[0m\n\u001b[1;32m----> 1\u001b[1;33m \u001b[0mtop\u001b[0m\u001b[1;33m[\u001b[0m\u001b[1;36m0\u001b[0m\u001b[1;33m]\u001b[0m\u001b[1;33m=\u001b[0m\u001b[1;34m\"Laranja\"\u001b[0m\u001b[1;33m\u001b[0m\u001b[1;33m\u001b[0m\u001b[0m\n\u001b[0m",
      "\u001b[1;31mTypeError\u001b[0m: 'tuple' object does not support item assignment"
     ]
    }
   ],
   "source": [
    "top[0]=\"Laranja\""
   ]
  },
  {
   "cell_type": "code",
   "execution_count": 30,
   "id": "e1b527b9",
   "metadata": {},
   "outputs": [
    {
     "data": {
      "text/plain": [
       "1"
      ]
     },
     "execution_count": 30,
     "metadata": {},
     "output_type": "execute_result"
    }
   ],
   "source": [
    "top.count(\"Maca\")"
   ]
  },
  {
   "cell_type": "code",
   "execution_count": 31,
   "id": "c5f824b1",
   "metadata": {},
   "outputs": [
    {
     "data": {
      "text/plain": [
       "('Banana', 'Maca')"
      ]
     },
     "execution_count": 31,
     "metadata": {},
     "output_type": "execute_result"
    }
   ],
   "source": [
    "top[0:2]"
   ]
  },
  {
   "cell_type": "markdown",
   "id": "170a57f2",
   "metadata": {},
   "source": [
    "### Dicionarios"
   ]
  },
  {
   "cell_type": "code",
   "execution_count": 33,
   "id": "87a5f3d0",
   "metadata": {},
   "outputs": [],
   "source": [
    "# Para criar dicionarios utilizamos as {}\n",
    "dc = {\"Maca\":20, \"Banana\":10, \"Laranja\":15, \"Uva\":5} # Dicioarios trabalham com o condeito chave valor"
   ]
  },
  {
   "cell_type": "code",
   "execution_count": 34,
   "id": "87cd2918",
   "metadata": {},
   "outputs": [
    {
     "data": {
      "text/plain": [
       "{'Maca': 20, 'Banana': 10, 'Laranja': 15, 'Uva': 5}"
      ]
     },
     "execution_count": 34,
     "metadata": {},
     "output_type": "execute_result"
    }
   ],
   "source": [
    "dc"
   ]
  },
  {
   "cell_type": "code",
   "execution_count": 35,
   "id": "225b350d",
   "metadata": {},
   "outputs": [
    {
     "data": {
      "text/plain": [
       "20"
      ]
     },
     "execution_count": 35,
     "metadata": {},
     "output_type": "execute_result"
    }
   ],
   "source": [
    "#Acessando o valor de um dicionario atraves da chave\n",
    "dc[\"Maca\"]"
   ]
  },
  {
   "cell_type": "code",
   "execution_count": 36,
   "id": "57d2cb97",
   "metadata": {},
   "outputs": [],
   "source": [
    "# Actualizando o valor da Maca\n",
    "dc[\"Maca\"]=25"
   ]
  },
  {
   "cell_type": "code",
   "execution_count": 37,
   "id": "1519b2e2",
   "metadata": {},
   "outputs": [
    {
     "data": {
      "text/plain": [
       "{'Maca': 25, 'Banana': 10, 'Laranja': 15, 'Uva': 5}"
      ]
     },
     "execution_count": 37,
     "metadata": {},
     "output_type": "execute_result"
    }
   ],
   "source": [
    "dc"
   ]
  },
  {
   "cell_type": "code",
   "execution_count": 38,
   "id": "50204002",
   "metadata": {},
   "outputs": [
    {
     "data": {
      "text/plain": [
       "dict_keys(['Maca', 'Banana', 'Laranja', 'Uva'])"
      ]
     },
     "execution_count": 38,
     "metadata": {},
     "output_type": "execute_result"
    }
   ],
   "source": [
    "# Retornando todas as chaves do dicionario\n",
    "dc.keys()"
   ]
  },
  {
   "cell_type": "code",
   "execution_count": 39,
   "id": "1e3d97d9",
   "metadata": {},
   "outputs": [
    {
     "data": {
      "text/plain": [
       "dict_values([25, 10, 15, 5])"
      ]
     },
     "execution_count": 39,
     "metadata": {},
     "output_type": "execute_result"
    }
   ],
   "source": [
    "# Retornando todos os valores do dicionario\n",
    "dc.values()"
   ]
  },
  {
   "cell_type": "code",
   "execution_count": 40,
   "id": "1962078d",
   "metadata": {},
   "outputs": [
    {
     "data": {
      "text/plain": [
       "22"
      ]
     },
     "execution_count": 40,
     "metadata": {},
     "output_type": "execute_result"
    }
   ],
   "source": [
    "# Verificando se ja existe uma chave no dicionario e caso nao existir inserir\n",
    "dc.setdefault(\"Limao\", 22)"
   ]
  },
  {
   "cell_type": "code",
   "execution_count": 41,
   "id": "382fe431",
   "metadata": {},
   "outputs": [
    {
     "data": {
      "text/plain": [
       "{'Maca': 25, 'Banana': 10, 'Laranja': 15, 'Uva': 5, 'Limao': 22}"
      ]
     },
     "execution_count": 41,
     "metadata": {},
     "output_type": "execute_result"
    }
   ],
   "source": [
    "dc"
   ]
  },
  {
   "cell_type": "code",
   "execution_count": null,
   "id": "65ac6c6b",
   "metadata": {},
   "outputs": [],
   "source": []
  }
 ],
 "metadata": {
  "kernelspec": {
   "display_name": "Python 3",
   "language": "python",
   "name": "python3"
  },
  "language_info": {
   "codemirror_mode": {
    "name": "ipython",
    "version": 3
   },
   "file_extension": ".py",
   "mimetype": "text/x-python",
   "name": "python",
   "nbconvert_exporter": "python",
   "pygments_lexer": "ipython3",
   "version": "3.8.8"
  }
 },
 "nbformat": 4,
 "nbformat_minor": 5
}
